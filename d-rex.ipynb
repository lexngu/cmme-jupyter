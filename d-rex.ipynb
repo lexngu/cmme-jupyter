{
 "cells": [
  {
   "cell_type": "markdown",
   "metadata": {},
   "source": [
    "# D-REX\n",
    "\n",
    "Minimal procedure:\n",
    "1. Set input sequence\n",
    "2. Calculate prior, given\n",
    "    1. an input sequence to use\n",
    "    2. parameters, including\n",
    "        1. distribution (default: gaussian, options: gaussian, lognormal, gmm, poisson)\n",
    "        2. D (default: 1, 50 for poisson)\n",
    "3. Add prior to parameters, and optionally set further parameters\n",
    "    1. hazard (default: 0.01)\n",
    "    2. obsnz (default: 0.0)\n",
    "    3. memory (default: inf)\n",
    "    4. maxhyp (default: inf)\n",
    "    5. Undocumented: predscale (default: 0.001)\n",
    "4. Run model, optionally:\n",
    "    1. Calculate belief dynamics (post_DREX_beliefdynamics.m)\n",
    "    2. Calculate change decisions (post_DREX_changedecision.m)\n",
    "    3. Calculate predictive distribution (post_DREX_prediction.m)\n",
    "6. Interpret results"
   ]
  },
  {
   "cell_type": "markdown",
   "metadata": {},
   "source": [
    "# CMME interna: IO paths"
   ]
  },
  {
   "cell_type": "code",
   "execution_count": null,
   "metadata": {
    "scrolled": true
   },
   "outputs": [],
   "source": [
    "from cmme.model_io import *\n",
    "\n",
    "#io_paths = ModelIO(\"./io\", \"general_procedure\").generate_drex_paths()\n",
    "io_paths = {'base_directory': '/Users/alexander/git/cmme-jupyter/io/drex/', 'generic_filename_prefix': '/Users/alexander/git/cmme-jupyter/io/drex/general_procedure_', 'input_file_path': '/Users/alexander/git/cmme-jupyter/io/drex/general_procedure_input', 'output_file_path': '/Users/alexander/git/cmme-jupyter/io/drex/general_procedure_output'}\n",
    "\n",
    "print(io_paths)"
   ]
  },
  {
   "cell_type": "markdown",
   "metadata": {},
   "source": [
    "# 1. Set input sequence"
   ]
  },
  {
   "cell_type": "code",
   "execution_count": null,
   "metadata": {},
   "outputs": [],
   "source": [
    "x1 = [1, 1, 1, 1, 2, 2, 2, 2, 1, 1, 1, 1]\n",
    "x2 = [1, 2, 1, 2, 1, 2, 1, 2, 1, 2, 1, 2]\n",
    "x3 = [1, 2, 3, 3, 2, 1, 1, 2, 3, 3, 2, 1]"
   ]
  },
  {
   "cell_type": "code",
   "execution_count": null,
   "metadata": {},
   "outputs": [],
   "source": [
    "# a) Single-feature input, e.g.\n",
    "input_sequence = x1"
   ]
  },
  {
   "cell_type": "code",
   "execution_count": null,
   "metadata": {},
   "outputs": [],
   "source": [
    "# b) Multi-feature input, e.g.\n",
    "input_sequence = [x1, x2, x3]"
   ]
  },
  {
   "cell_type": "code",
   "execution_count": null,
   "metadata": {},
   "outputs": [],
   "source": [
    "# Then:\n",
    "print(input_sequence)"
   ]
  },
  {
   "cell_type": "markdown",
   "metadata": {},
   "source": [
    "# 2. Calculate prior"
   ]
  },
  {
   "cell_type": "code",
   "execution_count": null,
   "metadata": {
    "scrolled": false
   },
   "outputs": [],
   "source": [
    "from cmme.drex import *"
   ]
  },
  {
   "cell_type": "markdown",
   "metadata": {},
   "source": [
    "## Choose distribution type and parameters"
   ]
  },
  {
   "cell_type": "code",
   "execution_count": null,
   "metadata": {},
   "outputs": [],
   "source": [
    "# a) Gaussian\n",
    "distribution = DREXDistribution.GAUSSIAN\n",
    "\n",
    "# Temporal dependency, >= 1\n",
    "D = 4"
   ]
  },
  {
   "cell_type": "code",
   "execution_count": null,
   "metadata": {},
   "outputs": [],
   "source": [
    "# b) Lognormal\n",
    "distribution = DREXDistribution.LOGNORMAL\n",
    "\n",
    "# Temporal dependency, >= 1\n",
    "D = 1"
   ]
  },
  {
   "cell_type": "code",
   "execution_count": null,
   "metadata": {},
   "outputs": [],
   "source": [
    "# c) GMM (Gaussian Mixture Model)\n",
    "distribution = DREXDistribution.GMM\n",
    "\n",
    "# Temporal dependency, allowed value: 1\n",
    "D = 1\n",
    "\n",
    "# Max. number of components, >= 1\n",
    "max_ncomp = 1"
   ]
  },
  {
   "cell_type": "code",
   "execution_count": null,
   "metadata": {},
   "outputs": [],
   "source": [
    "# d) Poisson\n",
    "distribution = DREXDistribution.POISSON\n",
    "\n",
    "# D (here: \"interval size\"), >= 1\n",
    "D = 1"
   ]
  },
  {
   "cell_type": "markdown",
   "metadata": {},
   "source": [
    "## Choose input sequence (sample)"
   ]
  },
  {
   "cell_type": "code",
   "execution_count": null,
   "metadata": {},
   "outputs": [],
   "source": [
    "# Note: For simplicity, use the complete input sequence\n",
    "prior_input_sequence = input_sequence\n",
    "print(prior_input_sequence)"
   ]
  },
  {
   "cell_type": "markdown",
   "metadata": {},
   "source": [
    "## Calculate prior"
   ]
  },
  {
   "cell_type": "code",
   "execution_count": null,
   "metadata": {
    "scrolled": false
   },
   "outputs": [],
   "source": [
    "# a) If Gaussian, Lognormal, or Poisson\n",
    "prior_estimator = DREXPriorEstimator(io_paths).estimate(distribution, prior_input_sequence, D)"
   ]
  },
  {
   "cell_type": "code",
   "execution_count": null,
   "metadata": {},
   "outputs": [],
   "source": [
    "# b) If GMM\n",
    "prior_estimator = DREXPriorEstimator(io_paths).estimate(distribution, prior_input_sequence, D, max_ncomp)"
   ]
  },
  {
   "cell_type": "code",
   "execution_count": null,
   "metadata": {},
   "outputs": [],
   "source": [
    "# Then:\n",
    "print(prior_estimator)"
   ]
  },
  {
   "cell_type": "markdown",
   "metadata": {},
   "source": [
    "## Parse prior"
   ]
  },
  {
   "cell_type": "code",
   "execution_count": null,
   "metadata": {
    "scrolled": true
   },
   "outputs": [],
   "source": [
    "file_path = prior_estimator[\"result\"][\"output_file_path\"]\n",
    "\n",
    "prior = DREXPriorOutputParameters.from_mat(file_path)\n",
    "print(prior)"
   ]
  },
  {
   "cell_type": "markdown",
   "metadata": {},
   "source": [
    "# 3. Add prior to model / Build model"
   ]
  },
  {
   "cell_type": "code",
   "execution_count": null,
   "metadata": {
    "scrolled": true
   },
   "outputs": [],
   "source": [
    "builder = DREXInstanceBuilder(io_paths, prior)"
   ]
  },
  {
   "cell_type": "code",
   "execution_count": null,
   "metadata": {},
   "outputs": [],
   "source": [
    "instance = builder.build()"
   ]
  },
  {
   "cell_type": "markdown",
   "metadata": {},
   "source": [
    "# 4. Run model"
   ]
  },
  {
   "cell_type": "code",
   "execution_count": null,
   "metadata": {},
   "outputs": [],
   "source": [
    "drex_result = instance.observe(input_sequence)\n",
    "print(drex_result)"
   ]
  },
  {
   "cell_type": "markdown",
   "metadata": {},
   "source": [
    "# 5. Interpret"
   ]
  },
  {
   "cell_type": "code",
   "execution_count": null,
   "metadata": {},
   "outputs": [],
   "source": [
    "output_file_path = drex_result[\"result\"][\"output_file_path\"]"
   ]
  },
  {
   "cell_type": "code",
   "execution_count": null,
   "metadata": {},
   "outputs": [],
   "source": [
    "# ToDo D-REX plot"
   ]
  }
 ],
 "metadata": {
  "kernelspec": {
   "display_name": "Python 3 (ipykernel)",
   "language": "python",
   "name": "python3"
  },
  "language_info": {
   "codemirror_mode": {
    "name": "ipython",
    "version": 3
   },
   "file_extension": ".py",
   "mimetype": "text/x-python",
   "name": "python",
   "nbconvert_exporter": "python",
   "pygments_lexer": "ipython3",
   "version": "3.7.13"
  }
 },
 "nbformat": 4,
 "nbformat_minor": 2
}

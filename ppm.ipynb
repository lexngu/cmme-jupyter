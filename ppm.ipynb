{
 "cells": [
  {
   "cell_type": "markdown",
   "metadata": {},
   "source": [
    "# PPM\n",
    "\n",
    "Minimum procedure:\n",
    "1. Set input sequence\n",
    "2. Optionally, set alternative alphabet (default: derived from input sequence)\n",
    "3. Initialise model:\n",
    "    a) Simple, and optionally:\n",
    "        1. Set order_bound (default: 10)\n",
    "        2. Set shortest_deterministic (default: True)\n",
    "        3. Set exclusion (default: True)\n",
    "        4. Set update_exclusion (default: True)\n",
    "        5. Set escape (default: \"c\", options: a, b, c, d, ax)\n",
    "        6. Set alphabet_levels (or alternatively: alphabet_size)\n",
    "    b) Decay (with fixed: escape = ax, exclusion = update_exclusion = False) + input time sequence, and optionally:\n",
    "        1. Set order_bound (default: 10)\n",
    "        2. Set ltm_weight (default: 1)\n",
    "        3. Set ltm_half_life (default: 10)\n",
    "        4. Set ltm_asymptote (default: 0)\n",
    "        5. Set noise (default: 0)\n",
    "        6. Set stm_weight (default: 1)\n",
    "        7. Set stm_duration (default: 0)\n",
    "        8. Set buffer_weight (default: 1)\n",
    "        9. Set buffer_length_time (default: 0)\n",
    "        10. Set buffer_length_items (default: 0)\n",
    "        11. Set only_learn_from_buffer (default: False)\n",
    "        12. Set only_predict_from_buffer (default: False)\n",
    "        13. Set seed (default: random int)\n",
    "        14. Set alphabet_levels (or alternatively: alphabet_size)\n",
    "4. Run model\n",
    "5. Interpret results\n"
   ]
  },
  {
   "cell_type": "markdown",
   "metadata": {},
   "source": [
    "# CMME interna: IO paths"
   ]
  },
  {
   "cell_type": "code",
   "execution_count": null,
   "metadata": {},
   "outputs": [],
   "source": [
    "from pathlib import Path\n",
    "from cmme.config import Config\n",
    "\n",
    "base_path = Path(Config().model_io_path())\n",
    "print(base_path)"
   ]
  },
  {
   "cell_type": "code",
   "execution_count": null,
   "metadata": {},
   "outputs": [],
   "source": [
    "ppm_model_instructions_file_path = base_path / \"ppm_model_instructions.csv\"\n",
    "ppm_model_results_file_path = base_path / \"ppm_model_results.csv\"\n",
    "\n",
    "print(ppm_model_instructions_file_path)\n",
    "print(ppm_model_results_file_path)"
   ]
  },
  {
   "cell_type": "markdown",
   "metadata": {},
   "source": [
    "# 1. Set input sequence"
   ]
  },
  {
   "cell_type": "code",
   "execution_count": null,
   "metadata": {},
   "outputs": [],
   "source": [
    "x1 = [\"a\", \"b\", \"r\", \"a\", \"c\", \"a\", \"d\", \"a\", \"b\"]\n",
    "x2 = [1, 1, 1, 1, 2, 2, 2, 2, 1, 1, 1, 1]"
   ]
  },
  {
   "cell_type": "code",
   "execution_count": null,
   "metadata": {},
   "outputs": [],
   "source": [
    "input_sequence = x1\n",
    "print(input_sequence)"
   ]
  },
  {
   "cell_type": "markdown",
   "metadata": {},
   "source": [
    "# 2. Set alphabet"
   ]
  },
  {
   "cell_type": "code",
   "execution_count": null,
   "metadata": {},
   "outputs": [],
   "source": [
    "# a) \n",
    "alphabet_size = len(set(input_sequence))\n",
    "print(alphabet_size)"
   ]
  },
  {
   "cell_type": "code",
   "execution_count": null,
   "metadata": {},
   "outputs": [],
   "source": [
    "# b) \n",
    "alphabet_levels = set(input_sequence)\n",
    "print(alphabet_levels)"
   ]
  },
  {
   "cell_type": "markdown",
   "metadata": {},
   "source": [
    "# 3. Initialise model"
   ]
  },
  {
   "cell_type": "code",
   "execution_count": null,
   "metadata": {},
   "outputs": [],
   "source": [
    "from cmme.ppm import *"
   ]
  },
  {
   "cell_type": "markdown",
   "metadata": {},
   "source": [
    "## a) PPM-Simple"
   ]
  },
  {
   "cell_type": "code",
   "execution_count": null,
   "metadata": {},
   "outputs": [],
   "source": [
    "builder = PPMSimpleInstanceBuilder()"
   ]
  },
  {
   "cell_type": "code",
   "execution_count": null,
   "metadata": {},
   "outputs": [],
   "source": [
    "# Optionally also:\n",
    "builder.order_bound(10)\n",
    "\n",
    "builder.shortest_deterministic(True)\n",
    "\n",
    "builder.exclusion(True)\n",
    "builder.update_exclusion(True)\n",
    "\n",
    "builder.escape(PPMEscapeMethod.C)"
   ]
  },
  {
   "cell_type": "markdown",
   "metadata": {},
   "source": [
    "## b) PPM-Decay"
   ]
  },
  {
   "cell_type": "code",
   "execution_count": null,
   "metadata": {},
   "outputs": [],
   "source": [
    "builder = PPMDecayInstanceBuilder()"
   ]
  },
  {
   "cell_type": "code",
   "execution_count": null,
   "metadata": {},
   "outputs": [],
   "source": [
    "# If [], a default time sequence will be set.\n",
    "input_time_sequence = []"
   ]
  },
  {
   "cell_type": "code",
   "execution_count": null,
   "metadata": {},
   "outputs": [],
   "source": [
    "# Optionally also\n",
    "builder.order_bound(10)\n",
    "\n",
    "builder.ltm_weight(1)\n",
    "builder.ltm_half_life(10)\n",
    "builder.ltm_asymptote(0)\n",
    "builder.noise(0)\n",
    "\n",
    "builder.stm_weight(1)\n",
    "builder.stm_duration(0)\n",
    "\n",
    "builder.buffer_weight(1)\n",
    "builder.buffer_length_time(0)\n",
    "builder.buffer_length_items(0)\n",
    "\n",
    "builder.only_learn_from_buffer(False)\n",
    "builder.only_predict_from_buffer(False)\n",
    "\n",
    "builder.seed(1)"
   ]
  },
  {
   "cell_type": "markdown",
   "metadata": {},
   "source": [
    "## Then:"
   ]
  },
  {
   "cell_type": "code",
   "execution_count": null,
   "metadata": {},
   "outputs": [],
   "source": [
    "# a)\n",
    "builder.alphabet_size(alphabet_size)"
   ]
  },
  {
   "cell_type": "code",
   "execution_count": null,
   "metadata": {},
   "outputs": [],
   "source": [
    "# b)\n",
    "builder.alphabet_levels(alphabet_levels)"
   ]
  },
  {
   "cell_type": "markdown",
   "metadata": {},
   "source": [
    "## Build"
   ]
  },
  {
   "cell_type": "code",
   "execution_count": null,
   "metadata": {},
   "outputs": [],
   "source": [
    "# And regardless of previous choice:\n",
    "builder.with_instructions_file_path(ppm_model_instructions_file_path).with_results_file_path(ppm_model_results_file_path)\n",
    "\n",
    "ppm_instance = builder.build()\n",
    "print(ppm_instance)"
   ]
  },
  {
   "cell_type": "markdown",
   "metadata": {},
   "source": [
    "# 4. Run model"
   ]
  },
  {
   "cell_type": "code",
   "execution_count": null,
   "metadata": {
    "scrolled": true
   },
   "outputs": [],
   "source": [
    "# a) If simple,\n",
    "ppm_result = ppm_instance.observe(input_sequence)"
   ]
  },
  {
   "cell_type": "code",
   "execution_count": null,
   "metadata": {},
   "outputs": [],
   "source": [
    "# b) If decay,\n",
    "ppm_result = ppm_instance.observe(input_sequence, input_time_sequence)"
   ]
  },
  {
   "cell_type": "code",
   "execution_count": null,
   "metadata": {},
   "outputs": [],
   "source": [
    "# Then\n",
    "print(ppm_result)"
   ]
  },
  {
   "cell_type": "markdown",
   "metadata": {},
   "source": [
    "# 5. Interpret"
   ]
  },
  {
   "cell_type": "code",
   "execution_count": null,
   "metadata": {},
   "outputs": [],
   "source": [
    "# ToDo"
   ]
  }
 ],
 "metadata": {
  "kernelspec": {
   "display_name": "Python 3 (ipykernel)",
   "language": "python",
   "name": "python3"
  },
  "language_info": {
   "codemirror_mode": {
    "name": "ipython",
    "version": 3
   },
   "file_extension": ".py",
   "mimetype": "text/x-python",
   "name": "python",
   "nbconvert_exporter": "python",
   "pygments_lexer": "ipython3",
   "version": "3.7.13"
  }
 },
 "nbformat": 4,
 "nbformat_minor": 2
}

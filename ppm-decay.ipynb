{
 "cells": [
  {
   "cell_type": "markdown",
   "metadata": {},
   "source": [
    "# PPM-Decay\n",
    "\n",
    "Minimum procedure:\n",
    "1. Set input sequence\n",
    "2. Optionally, set alternative alphabet (default: derived from input sequence)\n",
    "3. Initialise \"simple\" model, and optionally:\n",
    "    1. Set order_bound (default: 10)\n",
    "    2. Set shortest_deterministic (default: True)\n",
    "    3. Set exclusion (default: True)\n",
    "    4. Set update_exclusion (default: True)\n",
    "    5. Set escape (default: \"c\", options: a, b, c, d, ax)\n",
    "    6. Set debug_smooth (default: False)\n",
    "    7. Set alphabet_levels (or alternatively: alphabet_size)\n",
    "4. Alternatively, initialise \"decay\" model (escape = ax, exclusion = update_exclusion = False), and optionally:\n",
    "    1. Set order_bound (default: 10)\n",
    "    2. Set ltm_weight (default: 1)\n",
    "    3. Set ltm_half_life (default: 10)\n",
    "    4. Set ltm_asymptote (default: 0)\n",
    "    5. Set noise (default: 0)\n",
    "    6. Set stm_weight (default: 1)\n",
    "    7. Set stm_duration (default: 0)\n",
    "    8. Set buffer_weight (default: 1)\n",
    "    9. Set buffer_length_time (default: 0)\n",
    "    10. Set only_learn_from_buffer (default: False)\n",
    "    11. Set only_predict_from_buffer (default: False)\n",
    "    12. Set seed (default: random int)\n",
    "    13. Set debug_smooth (default: False)\n",
    "    14. Set debug_decay (default: False)\n",
    "    15. Set alphabet_levels (or alternatively: alphabet_size)\n",
    "5. If decay, set time sequence along input\n",
    "6. Run model\n",
    "7. Interpret results\n"
   ]
  }
 ],
 "metadata": {
  "language_info": {
   "name": "python"
  },
  "orig_nbformat": 4
 },
 "nbformat": 4,
 "nbformat_minor": 2
}

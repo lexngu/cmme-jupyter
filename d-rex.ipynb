{
 "cells": [
  {
   "cell_type": "markdown",
   "metadata": {},
   "source": [
    "# D-REX\n",
    "\n",
    "Minimal procedure:\n",
    "1. Set input sequence\n",
    "2. Calculate prior, given\n",
    "    1. an input sequence to use\n",
    "    2. parameters, including\n",
    "        1. distribution (default: gaussian, options: gaussian, lognormal, gmm, poisson)\n",
    "        2. D (default: 1, 50 for poisson)\n",
    "3. Add prior to parameters, and optionally set further parameters\n",
    "    1. hazard (default: 0.01)\n",
    "    2. obsnz (default: 0.0)\n",
    "    3. memory (default: inf)\n",
    "    4. maxhyp (default: inf)\n",
    "    5. Undocumented: predscale (default: 0.001)\n",
    "4. Run model, optionally:\n",
    "    1. Calculate belief dynamics (post_DREX_beliefdynamics.m)\n",
    "    2. Calculate change decisions (post_DREX_changedecision.m)\n",
    "    3. Calculate predictive distribution (post_DREX_prediction.m)\n",
    "6. Interpret results"
   ]
  }
 ],
 "metadata": {
  "language_info": {
   "name": "python"
  },
  "orig_nbformat": 4
 },
 "nbformat": 4,
 "nbformat_minor": 2
}

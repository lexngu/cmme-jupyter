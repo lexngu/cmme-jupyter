{
 "cells": [
  {
   "cell_type": "code",
   "execution_count": 1,
   "id": "d39e78e6",
   "metadata": {},
   "outputs": [],
   "source": [
    "from cmme.idyom import * "
   ]
  },
  {
   "cell_type": "code",
   "execution_count": 2,
   "id": "bf65ae54",
   "metadata": {},
   "outputs": [
    {
     "name": "stdout",
     "output_type": "stream",
     "text": [
      "Database at /Users/alexander/idyom/db/database.sqlite already exists. Use force_reset, if you want to reset the database.\n"
     ]
    },
    {
     "data": {
      "text/plain": [
       "PosixPath('/Users/alexander/idyom/db/database.sqlite')"
      ]
     },
     "execution_count": 2,
     "metadata": {},
     "output_type": "execute_result"
    }
   ],
   "source": [
    "from cmme.idyom.util import install_idyom\n",
    "\n",
    "idyom_root_path = Config().idyom_root_path()\n",
    "idyom_database_path = Config().idyom_database_path()\n",
    "\n",
    "install_idyom(idyom_root_path, idyom_database_path)"
   ]
  },
  {
   "cell_type": "markdown",
   "id": "b05feb0d",
   "metadata": {},
   "source": [
    "# IDyOM\n",
    "\n",
    "Minimum procedure:\n",
    "1. Import or use available dataset\n",
    "2. Initialize model\n",
    "3. Run"
   ]
  },
  {
   "cell_type": "code",
   "execution_count": 3,
   "id": "43d1a479",
   "metadata": {
    "scrolled": true
   },
   "outputs": [],
   "source": [
    "idyom_db = IDYOMDatabase(idyom_root_path, idyom_database_path)"
   ]
  },
  {
   "cell_type": "markdown",
   "id": "3f3f7034",
   "metadata": {},
   "source": [
    "## Dataset"
   ]
  },
  {
   "cell_type": "markdown",
   "id": "2f33430e",
   "metadata": {},
   "source": [
    "### List available"
   ]
  },
  {
   "cell_type": "code",
   "execution_count": 4,
   "id": "d44618aa",
   "metadata": {
    "scrolled": false
   },
   "outputs": [
    {
     "data": {
      "text/plain": [
       "[]"
      ]
     },
     "execution_count": 4,
     "metadata": {},
     "output_type": "execute_result"
    }
   ],
   "source": [
    "available_datasets = idyom_db.get_all_datasets()\n",
    "available_dataset_id_to_description = dict(map(lambda d: [d.id, d.description], available_datasets))\n",
    "available_datasets"
   ]
  },
  {
   "cell_type": "markdown",
   "id": "0462fea5",
   "metadata": {},
   "source": [
    "### Import"
   ]
  },
  {
   "cell_type": "code",
   "execution_count": 5,
   "id": "32aca343",
   "metadata": {},
   "outputs": [],
   "source": [
    "from pathlib import Path\n",
    "cmme_jupyter_dir = Path(\".\").resolve().parent.absolute()"
   ]
  },
  {
   "cell_type": "code",
   "execution_count": 6,
   "id": "85fbdd0b",
   "metadata": {
    "scrolled": true
   },
   "outputs": [],
   "source": [
    "mccc_description = \"MCCC (Kern files)\"\n",
    "if not mccc_description in available_dataset_id_to_description.values():\n",
    "    kern_files_dir_path = cmme_jupyter_dir / Path(\"./idyom_data/MusicData/MCCC/kern/\")\n",
    "    timebase = 39473280 # This value is required for the import of the MCCC kern files\n",
    "\n",
    "    mccc_kern_dataset = idyom_db.import_kern_dataset(kern_files_dir_path, mccc_description, timebase=timebase)\n",
    "else:\n",
    "    mccc_kern_dataset = available_dataset_id_to_description.keys()[list(available_dataset_id_to_description.values()).index(mccc_description)]"
   ]
  },
  {
   "cell_type": "code",
   "execution_count": 7,
   "id": "386566d3",
   "metadata": {},
   "outputs": [],
   "source": [
    "mccc_midi_description = \"MCCC (MIDI version, without problematic ones)\"\n",
    "if not mccc_midi_description in available_dataset_id_to_description.values():\n",
    "    midifiles_dir_path = \"/Users/alexander/git/cmme-jupyter/idyom_data/MusicData/MCCC/midi_without_problematic_ones/\"\n",
    "\n",
    "    mccc_midi_dataset = idyom_db.import_midi_dataset(midifiles_dir_path, mccc_midi_description)\n",
    "else:\n",
    "    mccc_midi_dataset = available_dataset_id_to_description.keys()[list(available_dataset_id_to_description.values()).index(mccc_midi_description)]"
   ]
  },
  {
   "cell_type": "code",
   "execution_count": 8,
   "id": "0e5b6e9d",
   "metadata": {},
   "outputs": [],
   "source": [
    "musicmeg_midi_description = \"Music MEG (MIDI)\"\n",
    "if not musicmeg_midi_description in available_dataset_id_to_description.values():\n",
    "    musicmeg_midifiles_dir_path = \"/Users/alexander/git/cmme-jupyter/idyom_data/MusicData/MusicMEG/midi/\"\n",
    "\n",
    "    musicmeg_midi_dataset = idyom_db.import_midi_dataset(musicmeg_midifiles_dir_path, musicmeg_midi_description)\n",
    "else:\n",
    "    musicmeg_midi_dataset = available_dataset_id_to_description.keys()[list(available_dataset_id_to_description.values()).index(musicmeg_midi_description)]"
   ]
  },
  {
   "cell_type": "markdown",
   "id": "d0e323be",
   "metadata": {},
   "source": [
    "## Run"
   ]
  },
  {
   "cell_type": "code",
   "execution_count": 9,
   "id": "b0d8a49b",
   "metadata": {},
   "outputs": [
    {
     "data": {
      "text/plain": [
       "[Dataset(id=0, description='MCCC (Kern files)'),\n",
       " Dataset(id=1, description='MCCC (MIDI version, without problematic ones)'),\n",
       " Dataset(id=2, description='Music MEG (MIDI)')]"
      ]
     },
     "execution_count": 9,
     "metadata": {},
     "output_type": "execute_result"
    }
   ],
   "source": [
    "available_datasets = idyom_db.get_all_datasets()\n",
    "available_datasets"
   ]
  },
  {
   "cell_type": "code",
   "execution_count": 10,
   "id": "af3694d5",
   "metadata": {},
   "outputs": [],
   "source": [
    "dataset = available_datasets[2] # MusicMEG dataset"
   ]
  },
  {
   "cell_type": "code",
   "execution_count": 11,
   "id": "f22ff580",
   "metadata": {
    "scrolled": true
   },
   "outputs": [
    {
     "data": {
      "text/plain": [
       "<cmme.idyom.model.IDYOMInstructionBuilder at 0x7fe7629e0c70>"
      ]
     },
     "execution_count": 11,
     "metadata": {},
     "output_type": "execute_result"
    }
   ],
   "source": [
    "idyom_ib = IDYOMInstructionBuilder()\n",
    "\n",
    "idyom_ib.dataset(dataset)\\\n",
    "    .target_viewpoints([BasicViewpoint.CPITCH])\\\n",
    "    .source_viewpoints([BasicViewpoint.CPITCH])\\\n",
    "    .model(IDYOMModelType.BOTH)\\\n",
    "    .stm_options(order_bound=4)\\\n",
    "    .ltm_options(order_bound=4)\\\n",
    "    .training_options(resampling_folds_count_k=1)\\\n",
    "    .idyom_root_path(idyom_root_path)\\\n",
    "    .idyom_database_path(idyom_database_path)"
   ]
  },
  {
   "cell_type": "code",
   "execution_count": 12,
   "id": "097844a6",
   "metadata": {
    "scrolled": true
   },
   "outputs": [
    {
     "name": "stdout",
     "output_type": "stream",
     "text": [
      "Instructions file written to /Users/alexander/cmme-io/20240120T155353-IDYOMModel.lisp\n"
     ]
    }
   ],
   "source": [
    "idyom_model = IDYOMModel()\n",
    "\n",
    "idyom_if = idyom_ib.to_instructions_file()\n",
    "idyom_rf = idyom_model.run_instructions_file(idyom_if)"
   ]
  },
  {
   "cell_type": "code",
   "execution_count": 13,
   "id": "72f1adf4",
   "metadata": {},
   "outputs": [
    {
     "data": {
      "text/html": [
       "<div>\n",
       "<style scoped>\n",
       "    .dataframe tbody tr th:only-of-type {\n",
       "        vertical-align: middle;\n",
       "    }\n",
       "\n",
       "    .dataframe tbody tr th {\n",
       "        vertical-align: top;\n",
       "    }\n",
       "\n",
       "    .dataframe thead th {\n",
       "        text-align: right;\n",
       "    }\n",
       "</style>\n",
       "<table border=\"1\" class=\"dataframe\">\n",
       "  <thead>\n",
       "    <tr style=\"text-align: right;\">\n",
       "      <th></th>\n",
       "      <th>dataset.id</th>\n",
       "      <th>melody.id</th>\n",
       "      <th>note.id</th>\n",
       "      <th>melody.name</th>\n",
       "      <th>vertint12</th>\n",
       "      <th>articulation</th>\n",
       "      <th>comma</th>\n",
       "      <th>voice</th>\n",
       "      <th>ornament</th>\n",
       "      <th>dyn</th>\n",
       "      <th>...</th>\n",
       "      <th>cpitch.89</th>\n",
       "      <th>cpitch.90</th>\n",
       "      <th>cpitch.91</th>\n",
       "      <th>cpitch.92</th>\n",
       "      <th>cpitch.93</th>\n",
       "      <th>cpitch.95</th>\n",
       "      <th>probability</th>\n",
       "      <th>information.content</th>\n",
       "      <th>entropy</th>\n",
       "      <th>information.gain</th>\n",
       "    </tr>\n",
       "  </thead>\n",
       "  <tbody>\n",
       "    <tr>\n",
       "      <th>0</th>\n",
       "      <td>2</td>\n",
       "      <td>1</td>\n",
       "      <td>1</td>\n",
       "      <td>BBritten_Metamorphoses2</td>\n",
       "      <td>NaN</td>\n",
       "      <td>0</td>\n",
       "      <td>0</td>\n",
       "      <td>1</td>\n",
       "      <td>0</td>\n",
       "      <td>NaN</td>\n",
       "      <td>...</td>\n",
       "      <td>0.025641</td>\n",
       "      <td>0.025641</td>\n",
       "      <td>0.025641</td>\n",
       "      <td>0.025641</td>\n",
       "      <td>0.025641</td>\n",
       "      <td>0.025641</td>\n",
       "      <td>0.025641</td>\n",
       "      <td>5.285402</td>\n",
       "      <td>5.285404</td>\n",
       "      <td>NaN</td>\n",
       "    </tr>\n",
       "    <tr>\n",
       "      <th>1</th>\n",
       "      <td>2</td>\n",
       "      <td>1</td>\n",
       "      <td>2</td>\n",
       "      <td>BBritten_Metamorphoses2</td>\n",
       "      <td>NaN</td>\n",
       "      <td>0</td>\n",
       "      <td>0</td>\n",
       "      <td>1</td>\n",
       "      <td>0</td>\n",
       "      <td>NaN</td>\n",
       "      <td>...</td>\n",
       "      <td>0.020351</td>\n",
       "      <td>0.020351</td>\n",
       "      <td>0.020351</td>\n",
       "      <td>0.020351</td>\n",
       "      <td>0.020351</td>\n",
       "      <td>0.020351</td>\n",
       "      <td>0.020351</td>\n",
       "      <td>5.618789</td>\n",
       "      <td>4.830508</td>\n",
       "      <td>0.244219</td>\n",
       "    </tr>\n",
       "    <tr>\n",
       "      <th>2</th>\n",
       "      <td>2</td>\n",
       "      <td>1</td>\n",
       "      <td>3</td>\n",
       "      <td>BBritten_Metamorphoses2</td>\n",
       "      <td>NaN</td>\n",
       "      <td>0</td>\n",
       "      <td>0</td>\n",
       "      <td>1</td>\n",
       "      <td>0</td>\n",
       "      <td>NaN</td>\n",
       "      <td>...</td>\n",
       "      <td>0.019067</td>\n",
       "      <td>0.019067</td>\n",
       "      <td>0.019067</td>\n",
       "      <td>0.019067</td>\n",
       "      <td>0.019067</td>\n",
       "      <td>0.019067</td>\n",
       "      <td>0.147268</td>\n",
       "      <td>2.763488</td>\n",
       "      <td>4.844129</td>\n",
       "      <td>0.153731</td>\n",
       "    </tr>\n",
       "    <tr>\n",
       "      <th>3</th>\n",
       "      <td>2</td>\n",
       "      <td>1</td>\n",
       "      <td>4</td>\n",
       "      <td>BBritten_Metamorphoses2</td>\n",
       "      <td>NaN</td>\n",
       "      <td>0</td>\n",
       "      <td>0</td>\n",
       "      <td>1</td>\n",
       "      <td>0</td>\n",
       "      <td>NaN</td>\n",
       "      <td>...</td>\n",
       "      <td>0.007854</td>\n",
       "      <td>0.007854</td>\n",
       "      <td>0.007854</td>\n",
       "      <td>0.007854</td>\n",
       "      <td>0.007854</td>\n",
       "      <td>0.007854</td>\n",
       "      <td>0.007854</td>\n",
       "      <td>6.992292</td>\n",
       "      <td>3.073766</td>\n",
       "      <td>0.537132</td>\n",
       "    </tr>\n",
       "    <tr>\n",
       "      <th>4</th>\n",
       "      <td>2</td>\n",
       "      <td>1</td>\n",
       "      <td>5</td>\n",
       "      <td>BBritten_Metamorphoses2</td>\n",
       "      <td>NaN</td>\n",
       "      <td>0</td>\n",
       "      <td>0</td>\n",
       "      <td>1</td>\n",
       "      <td>0</td>\n",
       "      <td>NaN</td>\n",
       "      <td>...</td>\n",
       "      <td>0.013713</td>\n",
       "      <td>0.013713</td>\n",
       "      <td>0.013713</td>\n",
       "      <td>0.013713</td>\n",
       "      <td>0.013713</td>\n",
       "      <td>0.013713</td>\n",
       "      <td>0.013713</td>\n",
       "      <td>6.188361</td>\n",
       "      <td>4.325077</td>\n",
       "      <td>0.517851</td>\n",
       "    </tr>\n",
       "    <tr>\n",
       "      <th>...</th>\n",
       "      <td>...</td>\n",
       "      <td>...</td>\n",
       "      <td>...</td>\n",
       "      <td>...</td>\n",
       "      <td>...</td>\n",
       "      <td>...</td>\n",
       "      <td>...</td>\n",
       "      <td>...</td>\n",
       "      <td>...</td>\n",
       "      <td>...</td>\n",
       "      <td>...</td>\n",
       "      <td>...</td>\n",
       "      <td>...</td>\n",
       "      <td>...</td>\n",
       "      <td>...</td>\n",
       "      <td>...</td>\n",
       "      <td>...</td>\n",
       "      <td>...</td>\n",
       "      <td>...</td>\n",
       "      <td>...</td>\n",
       "      <td>...</td>\n",
       "    </tr>\n",
       "    <tr>\n",
       "      <th>9819</th>\n",
       "      <td>2</td>\n",
       "      <td>19</td>\n",
       "      <td>448</td>\n",
       "      <td>WAMozart_PapagenosAria</td>\n",
       "      <td>NaN</td>\n",
       "      <td>0</td>\n",
       "      <td>0</td>\n",
       "      <td>1</td>\n",
       "      <td>0</td>\n",
       "      <td>NaN</td>\n",
       "      <td>...</td>\n",
       "      <td>0.000124</td>\n",
       "      <td>0.000124</td>\n",
       "      <td>0.000124</td>\n",
       "      <td>0.000124</td>\n",
       "      <td>0.000124</td>\n",
       "      <td>0.000124</td>\n",
       "      <td>0.728432</td>\n",
       "      <td>0.457134</td>\n",
       "      <td>1.568361</td>\n",
       "      <td>3.500527</td>\n",
       "    </tr>\n",
       "    <tr>\n",
       "      <th>9820</th>\n",
       "      <td>2</td>\n",
       "      <td>19</td>\n",
       "      <td>449</td>\n",
       "      <td>WAMozart_PapagenosAria</td>\n",
       "      <td>NaN</td>\n",
       "      <td>0</td>\n",
       "      <td>0</td>\n",
       "      <td>1</td>\n",
       "      <td>0</td>\n",
       "      <td>NaN</td>\n",
       "      <td>...</td>\n",
       "      <td>0.000408</td>\n",
       "      <td>0.000408</td>\n",
       "      <td>0.000408</td>\n",
       "      <td>0.000408</td>\n",
       "      <td>0.000408</td>\n",
       "      <td>0.000408</td>\n",
       "      <td>0.367521</td>\n",
       "      <td>1.444102</td>\n",
       "      <td>2.064901</td>\n",
       "      <td>3.163341</td>\n",
       "    </tr>\n",
       "    <tr>\n",
       "      <th>9821</th>\n",
       "      <td>2</td>\n",
       "      <td>19</td>\n",
       "      <td>450</td>\n",
       "      <td>WAMozart_PapagenosAria</td>\n",
       "      <td>NaN</td>\n",
       "      <td>0</td>\n",
       "      <td>0</td>\n",
       "      <td>1</td>\n",
       "      <td>0</td>\n",
       "      <td>NaN</td>\n",
       "      <td>...</td>\n",
       "      <td>0.000177</td>\n",
       "      <td>0.000177</td>\n",
       "      <td>0.000177</td>\n",
       "      <td>0.000177</td>\n",
       "      <td>0.000177</td>\n",
       "      <td>0.000177</td>\n",
       "      <td>0.715927</td>\n",
       "      <td>0.482115</td>\n",
       "      <td>1.387100</td>\n",
       "      <td>1.896984</td>\n",
       "    </tr>\n",
       "    <tr>\n",
       "      <th>9822</th>\n",
       "      <td>2</td>\n",
       "      <td>19</td>\n",
       "      <td>451</td>\n",
       "      <td>WAMozart_PapagenosAria</td>\n",
       "      <td>NaN</td>\n",
       "      <td>0</td>\n",
       "      <td>0</td>\n",
       "      <td>1</td>\n",
       "      <td>0</td>\n",
       "      <td>NaN</td>\n",
       "      <td>...</td>\n",
       "      <td>0.001692</td>\n",
       "      <td>0.001692</td>\n",
       "      <td>0.001692</td>\n",
       "      <td>0.001692</td>\n",
       "      <td>0.001692</td>\n",
       "      <td>0.001692</td>\n",
       "      <td>0.039917</td>\n",
       "      <td>4.646862</td>\n",
       "      <td>3.245694</td>\n",
       "      <td>2.113790</td>\n",
       "    </tr>\n",
       "    <tr>\n",
       "      <th>9823</th>\n",
       "      <td>2</td>\n",
       "      <td>19</td>\n",
       "      <td>452</td>\n",
       "      <td>WAMozart_PapagenosAria</td>\n",
       "      <td>NaN</td>\n",
       "      <td>0</td>\n",
       "      <td>0</td>\n",
       "      <td>1</td>\n",
       "      <td>0</td>\n",
       "      <td>NaN</td>\n",
       "      <td>...</td>\n",
       "      <td>0.001346</td>\n",
       "      <td>0.001346</td>\n",
       "      <td>0.001346</td>\n",
       "      <td>0.001346</td>\n",
       "      <td>0.001346</td>\n",
       "      <td>0.001346</td>\n",
       "      <td>0.116539</td>\n",
       "      <td>3.101113</td>\n",
       "      <td>2.994575</td>\n",
       "      <td>0.690038</td>\n",
       "    </tr>\n",
       "  </tbody>\n",
       "</table>\n",
       "<p>9824 rows × 75 columns</p>\n",
       "</div>"
      ],
      "text/plain": [
       "      dataset.id  melody.id  note.id              melody.name  vertint12  \\\n",
       "0              2          1        1  BBritten_Metamorphoses2        NaN   \n",
       "1              2          1        2  BBritten_Metamorphoses2        NaN   \n",
       "2              2          1        3  BBritten_Metamorphoses2        NaN   \n",
       "3              2          1        4  BBritten_Metamorphoses2        NaN   \n",
       "4              2          1        5  BBritten_Metamorphoses2        NaN   \n",
       "...          ...        ...      ...                      ...        ...   \n",
       "9819           2         19      448   WAMozart_PapagenosAria        NaN   \n",
       "9820           2         19      449   WAMozart_PapagenosAria        NaN   \n",
       "9821           2         19      450   WAMozart_PapagenosAria        NaN   \n",
       "9822           2         19      451   WAMozart_PapagenosAria        NaN   \n",
       "9823           2         19      452   WAMozart_PapagenosAria        NaN   \n",
       "\n",
       "      articulation  comma  voice  ornament  dyn  ...  cpitch.89  cpitch.90  \\\n",
       "0                0      0      1         0  NaN  ...   0.025641   0.025641   \n",
       "1                0      0      1         0  NaN  ...   0.020351   0.020351   \n",
       "2                0      0      1         0  NaN  ...   0.019067   0.019067   \n",
       "3                0      0      1         0  NaN  ...   0.007854   0.007854   \n",
       "4                0      0      1         0  NaN  ...   0.013713   0.013713   \n",
       "...            ...    ...    ...       ...  ...  ...        ...        ...   \n",
       "9819             0      0      1         0  NaN  ...   0.000124   0.000124   \n",
       "9820             0      0      1         0  NaN  ...   0.000408   0.000408   \n",
       "9821             0      0      1         0  NaN  ...   0.000177   0.000177   \n",
       "9822             0      0      1         0  NaN  ...   0.001692   0.001692   \n",
       "9823             0      0      1         0  NaN  ...   0.001346   0.001346   \n",
       "\n",
       "      cpitch.91  cpitch.92  cpitch.93  cpitch.95  probability  \\\n",
       "0      0.025641   0.025641   0.025641   0.025641     0.025641   \n",
       "1      0.020351   0.020351   0.020351   0.020351     0.020351   \n",
       "2      0.019067   0.019067   0.019067   0.019067     0.147268   \n",
       "3      0.007854   0.007854   0.007854   0.007854     0.007854   \n",
       "4      0.013713   0.013713   0.013713   0.013713     0.013713   \n",
       "...         ...        ...        ...        ...          ...   \n",
       "9819   0.000124   0.000124   0.000124   0.000124     0.728432   \n",
       "9820   0.000408   0.000408   0.000408   0.000408     0.367521   \n",
       "9821   0.000177   0.000177   0.000177   0.000177     0.715927   \n",
       "9822   0.001692   0.001692   0.001692   0.001692     0.039917   \n",
       "9823   0.001346   0.001346   0.001346   0.001346     0.116539   \n",
       "\n",
       "      information.content   entropy  information.gain  \n",
       "0                5.285402  5.285404               NaN  \n",
       "1                5.618789  4.830508          0.244219  \n",
       "2                2.763488  4.844129          0.153731  \n",
       "3                6.992292  3.073766          0.537132  \n",
       "4                6.188361  4.325077          0.517851  \n",
       "...                   ...       ...               ...  \n",
       "9819             0.457134  1.568361          3.500527  \n",
       "9820             1.444102  2.064901          3.163341  \n",
       "9821             0.482115  1.387100          1.896984  \n",
       "9822             4.646862  3.245694          2.113790  \n",
       "9823             3.101113  2.994575          0.690038  \n",
       "\n",
       "[9824 rows x 75 columns]"
      ]
     },
     "execution_count": 13,
     "metadata": {},
     "output_type": "execute_result"
    }
   ],
   "source": [
    "idyom_rf.df"
   ]
  }
 ],
 "metadata": {
  "kernelspec": {
   "display_name": "Python 3 (ipykernel)",
   "language": "python",
   "name": "python3"
  },
  "language_info": {
   "codemirror_mode": {
    "name": "ipython",
    "version": 3
   },
   "file_extension": ".py",
   "mimetype": "text/x-python",
   "name": "python",
   "nbconvert_exporter": "python",
   "pygments_lexer": "ipython3",
   "version": "3.10.12"
  }
 },
 "nbformat": 4,
 "nbformat_minor": 5
}
